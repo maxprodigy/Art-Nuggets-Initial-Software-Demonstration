{
  "cells": [
    {
      "cell_type": "markdown",
      "id": "2ea01ea0",
      "metadata": {
        "id": "2ea01ea0"
      },
      "source": [
        "# Capstone ML Notebook – Recommender System\n",
        "\n",
        "This notebook demonstrates a recommender system for creatives using interaction data. It includes data preprocessing, feature engineering, model experimentation, and evaluation steps."
      ]
    },
    {
      "cell_type": "markdown",
      "id": "12ca636e",
      "metadata": {
        "id": "12ca636e"
      },
      "source": [
        "## Data Loading"
      ]
    },
    {
      "cell_type": "code",
      "execution_count": 3,
      "id": "62714654",
      "metadata": {
        "colab": {
          "base_uri": "https://localhost:8080/",
          "height": 417
        },
        "id": "62714654",
        "outputId": "4d510491-e9dc-4b26-8b0d-fe865b772810"
      },
      "outputs": [
        {
          "output_type": "execute_result",
          "data": {
            "text/plain": [
              "  user_id item_id interaction_type  dwell_time_seconds            timestamp  \\\n",
              "0   U0112   I0051             view                 235  2025-08-26 20:08:04   \n",
              "1   U0137   I0099             like                1195  2025-09-10 22:06:28   \n",
              "2   U0037   I0086             view                 198  2025-09-01 03:52:26   \n",
              "3   U0231   I0118             view                  31  2025-08-11 14:24:52   \n",
              "4   U0064   I0056             view                 235  2025-07-14 16:53:58   \n",
              "\n",
              "              name        niche         level           goal  \\\n",
              "0     Ngozi Onyeka         Film  Intermediate  Skill Upgrade   \n",
              "1         Ade Umar     Business           Pro         Growth   \n",
              "2  Ifeoma Akintola  Visual Arts      Beginner           Gigs   \n",
              "3        Efe Nwosu        Music      Beginner      Contracts   \n",
              "4     Amina Okafor       Design      Beginner      Contracts   \n",
              "\n",
              "                              title  category     type  \\\n",
              "0  Film - Post-Production Basics 51      Film    video   \n",
              "1  Business - Negotiation Basics 99  Business    video   \n",
              "2    Business - Contracts Basics 86  Business    video   \n",
              "3         Film - Funding Basics 118      Film    video   \n",
              "4        Design - Pricing Basics 56    Design  podcast   \n",
              "\n",
              "                     tags  duration_minutes  \n",
              "0    distribution,funding                 7  \n",
              "1            strategy,tax                30  \n",
              "2      strategy,contracts                10  \n",
              "3  contracts,distribution                 5  \n",
              "4            ux,contracts                12  "
            ],
            "text/html": [
              "\n",
              "  <div id=\"df-d32c0664-f97d-4e7f-aba0-f99e6109dc88\" class=\"colab-df-container\">\n",
              "    <div>\n",
              "<style scoped>\n",
              "    .dataframe tbody tr th:only-of-type {\n",
              "        vertical-align: middle;\n",
              "    }\n",
              "\n",
              "    .dataframe tbody tr th {\n",
              "        vertical-align: top;\n",
              "    }\n",
              "\n",
              "    .dataframe thead th {\n",
              "        text-align: right;\n",
              "    }\n",
              "</style>\n",
              "<table border=\"1\" class=\"dataframe\">\n",
              "  <thead>\n",
              "    <tr style=\"text-align: right;\">\n",
              "      <th></th>\n",
              "      <th>user_id</th>\n",
              "      <th>item_id</th>\n",
              "      <th>interaction_type</th>\n",
              "      <th>dwell_time_seconds</th>\n",
              "      <th>timestamp</th>\n",
              "      <th>name</th>\n",
              "      <th>niche</th>\n",
              "      <th>level</th>\n",
              "      <th>goal</th>\n",
              "      <th>title</th>\n",
              "      <th>category</th>\n",
              "      <th>type</th>\n",
              "      <th>tags</th>\n",
              "      <th>duration_minutes</th>\n",
              "    </tr>\n",
              "  </thead>\n",
              "  <tbody>\n",
              "    <tr>\n",
              "      <th>0</th>\n",
              "      <td>U0112</td>\n",
              "      <td>I0051</td>\n",
              "      <td>view</td>\n",
              "      <td>235</td>\n",
              "      <td>2025-08-26 20:08:04</td>\n",
              "      <td>Ngozi Onyeka</td>\n",
              "      <td>Film</td>\n",
              "      <td>Intermediate</td>\n",
              "      <td>Skill Upgrade</td>\n",
              "      <td>Film - Post-Production Basics 51</td>\n",
              "      <td>Film</td>\n",
              "      <td>video</td>\n",
              "      <td>distribution,funding</td>\n",
              "      <td>7</td>\n",
              "    </tr>\n",
              "    <tr>\n",
              "      <th>1</th>\n",
              "      <td>U0137</td>\n",
              "      <td>I0099</td>\n",
              "      <td>like</td>\n",
              "      <td>1195</td>\n",
              "      <td>2025-09-10 22:06:28</td>\n",
              "      <td>Ade Umar</td>\n",
              "      <td>Business</td>\n",
              "      <td>Pro</td>\n",
              "      <td>Growth</td>\n",
              "      <td>Business - Negotiation Basics 99</td>\n",
              "      <td>Business</td>\n",
              "      <td>video</td>\n",
              "      <td>strategy,tax</td>\n",
              "      <td>30</td>\n",
              "    </tr>\n",
              "    <tr>\n",
              "      <th>2</th>\n",
              "      <td>U0037</td>\n",
              "      <td>I0086</td>\n",
              "      <td>view</td>\n",
              "      <td>198</td>\n",
              "      <td>2025-09-01 03:52:26</td>\n",
              "      <td>Ifeoma Akintola</td>\n",
              "      <td>Visual Arts</td>\n",
              "      <td>Beginner</td>\n",
              "      <td>Gigs</td>\n",
              "      <td>Business - Contracts Basics 86</td>\n",
              "      <td>Business</td>\n",
              "      <td>video</td>\n",
              "      <td>strategy,contracts</td>\n",
              "      <td>10</td>\n",
              "    </tr>\n",
              "    <tr>\n",
              "      <th>3</th>\n",
              "      <td>U0231</td>\n",
              "      <td>I0118</td>\n",
              "      <td>view</td>\n",
              "      <td>31</td>\n",
              "      <td>2025-08-11 14:24:52</td>\n",
              "      <td>Efe Nwosu</td>\n",
              "      <td>Music</td>\n",
              "      <td>Beginner</td>\n",
              "      <td>Contracts</td>\n",
              "      <td>Film - Funding Basics 118</td>\n",
              "      <td>Film</td>\n",
              "      <td>video</td>\n",
              "      <td>contracts,distribution</td>\n",
              "      <td>5</td>\n",
              "    </tr>\n",
              "    <tr>\n",
              "      <th>4</th>\n",
              "      <td>U0064</td>\n",
              "      <td>I0056</td>\n",
              "      <td>view</td>\n",
              "      <td>235</td>\n",
              "      <td>2025-07-14 16:53:58</td>\n",
              "      <td>Amina Okafor</td>\n",
              "      <td>Design</td>\n",
              "      <td>Beginner</td>\n",
              "      <td>Contracts</td>\n",
              "      <td>Design - Pricing Basics 56</td>\n",
              "      <td>Design</td>\n",
              "      <td>podcast</td>\n",
              "      <td>ux,contracts</td>\n",
              "      <td>12</td>\n",
              "    </tr>\n",
              "  </tbody>\n",
              "</table>\n",
              "</div>\n",
              "    <div class=\"colab-df-buttons\">\n",
              "\n",
              "  <div class=\"colab-df-container\">\n",
              "    <button class=\"colab-df-convert\" onclick=\"convertToInteractive('df-d32c0664-f97d-4e7f-aba0-f99e6109dc88')\"\n",
              "            title=\"Convert this dataframe to an interactive table.\"\n",
              "            style=\"display:none;\">\n",
              "\n",
              "  <svg xmlns=\"http://www.w3.org/2000/svg\" height=\"24px\" viewBox=\"0 -960 960 960\">\n",
              "    <path d=\"M120-120v-720h720v720H120Zm60-500h600v-160H180v160Zm220 220h160v-160H400v160Zm0 220h160v-160H400v160ZM180-400h160v-160H180v160Zm440 0h160v-160H620v160ZM180-180h160v-160H180v160Zm440 0h160v-160H620v160Z\"/>\n",
              "  </svg>\n",
              "    </button>\n",
              "\n",
              "  <style>\n",
              "    .colab-df-container {\n",
              "      display:flex;\n",
              "      gap: 12px;\n",
              "    }\n",
              "\n",
              "    .colab-df-convert {\n",
              "      background-color: #E8F0FE;\n",
              "      border: none;\n",
              "      border-radius: 50%;\n",
              "      cursor: pointer;\n",
              "      display: none;\n",
              "      fill: #1967D2;\n",
              "      height: 32px;\n",
              "      padding: 0 0 0 0;\n",
              "      width: 32px;\n",
              "    }\n",
              "\n",
              "    .colab-df-convert:hover {\n",
              "      background-color: #E2EBFA;\n",
              "      box-shadow: 0px 1px 2px rgba(60, 64, 67, 0.3), 0px 1px 3px 1px rgba(60, 64, 67, 0.15);\n",
              "      fill: #174EA6;\n",
              "    }\n",
              "\n",
              "    .colab-df-buttons div {\n",
              "      margin-bottom: 4px;\n",
              "    }\n",
              "\n",
              "    [theme=dark] .colab-df-convert {\n",
              "      background-color: #3B4455;\n",
              "      fill: #D2E3FC;\n",
              "    }\n",
              "\n",
              "    [theme=dark] .colab-df-convert:hover {\n",
              "      background-color: #434B5C;\n",
              "      box-shadow: 0px 1px 3px 1px rgba(0, 0, 0, 0.15);\n",
              "      filter: drop-shadow(0px 1px 2px rgba(0, 0, 0, 0.3));\n",
              "      fill: #FFFFFF;\n",
              "    }\n",
              "  </style>\n",
              "\n",
              "    <script>\n",
              "      const buttonEl =\n",
              "        document.querySelector('#df-d32c0664-f97d-4e7f-aba0-f99e6109dc88 button.colab-df-convert');\n",
              "      buttonEl.style.display =\n",
              "        google.colab.kernel.accessAllowed ? 'block' : 'none';\n",
              "\n",
              "      async function convertToInteractive(key) {\n",
              "        const element = document.querySelector('#df-d32c0664-f97d-4e7f-aba0-f99e6109dc88');\n",
              "        const dataTable =\n",
              "          await google.colab.kernel.invokeFunction('convertToInteractive',\n",
              "                                                    [key], {});\n",
              "        if (!dataTable) return;\n",
              "\n",
              "        const docLinkHtml = 'Like what you see? Visit the ' +\n",
              "          '<a target=\"_blank\" href=https://colab.research.google.com/notebooks/data_table.ipynb>data table notebook</a>'\n",
              "          + ' to learn more about interactive tables.';\n",
              "        element.innerHTML = '';\n",
              "        dataTable['output_type'] = 'display_data';\n",
              "        await google.colab.output.renderOutput(dataTable, element);\n",
              "        const docLink = document.createElement('div');\n",
              "        docLink.innerHTML = docLinkHtml;\n",
              "        element.appendChild(docLink);\n",
              "      }\n",
              "    </script>\n",
              "  </div>\n",
              "\n",
              "\n",
              "    <div id=\"df-d21127bc-1ebd-45ab-8496-7e46cca52d0b\">\n",
              "      <button class=\"colab-df-quickchart\" onclick=\"quickchart('df-d21127bc-1ebd-45ab-8496-7e46cca52d0b')\"\n",
              "                title=\"Suggest charts\"\n",
              "                style=\"display:none;\">\n",
              "\n",
              "<svg xmlns=\"http://www.w3.org/2000/svg\" height=\"24px\"viewBox=\"0 0 24 24\"\n",
              "     width=\"24px\">\n",
              "    <g>\n",
              "        <path d=\"M19 3H5c-1.1 0-2 .9-2 2v14c0 1.1.9 2 2 2h14c1.1 0 2-.9 2-2V5c0-1.1-.9-2-2-2zM9 17H7v-7h2v7zm4 0h-2V7h2v10zm4 0h-2v-4h2v4z\"/>\n",
              "    </g>\n",
              "</svg>\n",
              "      </button>\n",
              "\n",
              "<style>\n",
              "  .colab-df-quickchart {\n",
              "      --bg-color: #E8F0FE;\n",
              "      --fill-color: #1967D2;\n",
              "      --hover-bg-color: #E2EBFA;\n",
              "      --hover-fill-color: #174EA6;\n",
              "      --disabled-fill-color: #AAA;\n",
              "      --disabled-bg-color: #DDD;\n",
              "  }\n",
              "\n",
              "  [theme=dark] .colab-df-quickchart {\n",
              "      --bg-color: #3B4455;\n",
              "      --fill-color: #D2E3FC;\n",
              "      --hover-bg-color: #434B5C;\n",
              "      --hover-fill-color: #FFFFFF;\n",
              "      --disabled-bg-color: #3B4455;\n",
              "      --disabled-fill-color: #666;\n",
              "  }\n",
              "\n",
              "  .colab-df-quickchart {\n",
              "    background-color: var(--bg-color);\n",
              "    border: none;\n",
              "    border-radius: 50%;\n",
              "    cursor: pointer;\n",
              "    display: none;\n",
              "    fill: var(--fill-color);\n",
              "    height: 32px;\n",
              "    padding: 0;\n",
              "    width: 32px;\n",
              "  }\n",
              "\n",
              "  .colab-df-quickchart:hover {\n",
              "    background-color: var(--hover-bg-color);\n",
              "    box-shadow: 0 1px 2px rgba(60, 64, 67, 0.3), 0 1px 3px 1px rgba(60, 64, 67, 0.15);\n",
              "    fill: var(--button-hover-fill-color);\n",
              "  }\n",
              "\n",
              "  .colab-df-quickchart-complete:disabled,\n",
              "  .colab-df-quickchart-complete:disabled:hover {\n",
              "    background-color: var(--disabled-bg-color);\n",
              "    fill: var(--disabled-fill-color);\n",
              "    box-shadow: none;\n",
              "  }\n",
              "\n",
              "  .colab-df-spinner {\n",
              "    border: 2px solid var(--fill-color);\n",
              "    border-color: transparent;\n",
              "    border-bottom-color: var(--fill-color);\n",
              "    animation:\n",
              "      spin 1s steps(1) infinite;\n",
              "  }\n",
              "\n",
              "  @keyframes spin {\n",
              "    0% {\n",
              "      border-color: transparent;\n",
              "      border-bottom-color: var(--fill-color);\n",
              "      border-left-color: var(--fill-color);\n",
              "    }\n",
              "    20% {\n",
              "      border-color: transparent;\n",
              "      border-left-color: var(--fill-color);\n",
              "      border-top-color: var(--fill-color);\n",
              "    }\n",
              "    30% {\n",
              "      border-color: transparent;\n",
              "      border-left-color: var(--fill-color);\n",
              "      border-top-color: var(--fill-color);\n",
              "      border-right-color: var(--fill-color);\n",
              "    }\n",
              "    40% {\n",
              "      border-color: transparent;\n",
              "      border-right-color: var(--fill-color);\n",
              "      border-top-color: var(--fill-color);\n",
              "    }\n",
              "    60% {\n",
              "      border-color: transparent;\n",
              "      border-right-color: var(--fill-color);\n",
              "    }\n",
              "    80% {\n",
              "      border-color: transparent;\n",
              "      border-right-color: var(--fill-color);\n",
              "      border-bottom-color: var(--fill-color);\n",
              "    }\n",
              "    90% {\n",
              "      border-color: transparent;\n",
              "      border-bottom-color: var(--fill-color);\n",
              "    }\n",
              "  }\n",
              "</style>\n",
              "\n",
              "      <script>\n",
              "        async function quickchart(key) {\n",
              "          const quickchartButtonEl =\n",
              "            document.querySelector('#' + key + ' button');\n",
              "          quickchartButtonEl.disabled = true;  // To prevent multiple clicks.\n",
              "          quickchartButtonEl.classList.add('colab-df-spinner');\n",
              "          try {\n",
              "            const charts = await google.colab.kernel.invokeFunction(\n",
              "                'suggestCharts', [key], {});\n",
              "          } catch (error) {\n",
              "            console.error('Error during call to suggestCharts:', error);\n",
              "          }\n",
              "          quickchartButtonEl.classList.remove('colab-df-spinner');\n",
              "          quickchartButtonEl.classList.add('colab-df-quickchart-complete');\n",
              "        }\n",
              "        (() => {\n",
              "          let quickchartButtonEl =\n",
              "            document.querySelector('#df-d21127bc-1ebd-45ab-8496-7e46cca52d0b button');\n",
              "          quickchartButtonEl.style.display =\n",
              "            google.colab.kernel.accessAllowed ? 'block' : 'none';\n",
              "        })();\n",
              "      </script>\n",
              "    </div>\n",
              "\n",
              "    </div>\n",
              "  </div>\n"
            ],
            "application/vnd.google.colaboratory.intrinsic+json": {
              "type": "dataframe",
              "variable_name": "df",
              "summary": "{\n  \"name\": \"df\",\n  \"rows\": 4500,\n  \"fields\": [\n    {\n      \"column\": \"user_id\",\n      \"properties\": {\n        \"dtype\": \"category\",\n        \"num_unique_values\": 350,\n        \"samples\": [\n          \"U0251\",\n          \"U0222\",\n          \"U0145\"\n        ],\n        \"semantic_type\": \"\",\n        \"description\": \"\"\n      }\n    },\n    {\n      \"column\": \"item_id\",\n      \"properties\": {\n        \"dtype\": \"category\",\n        \"num_unique_values\": 140,\n        \"samples\": [\n          \"I0117\",\n          \"I0083\",\n          \"I0068\"\n        ],\n        \"semantic_type\": \"\",\n        \"description\": \"\"\n      }\n    },\n    {\n      \"column\": \"interaction_type\",\n      \"properties\": {\n        \"dtype\": \"category\",\n        \"num_unique_values\": 3,\n        \"samples\": [\n          \"view\",\n          \"like\",\n          \"complete\"\n        ],\n        \"semantic_type\": \"\",\n        \"description\": \"\"\n      }\n    },\n    {\n      \"column\": \"dwell_time_seconds\",\n      \"properties\": {\n        \"dtype\": \"number\",\n        \"std\": 389,\n        \"min\": 18,\n        \"max\": 2152,\n        \"num_unique_values\": 1197,\n        \"samples\": [\n          547,\n          704,\n          134\n        ],\n        \"semantic_type\": \"\",\n        \"description\": \"\"\n      }\n    },\n    {\n      \"column\": \"timestamp\",\n      \"properties\": {\n        \"dtype\": \"object\",\n        \"num_unique_values\": 4499,\n        \"samples\": [\n          \"2025-08-18 10:48:21\",\n          \"2025-07-14 19:36:02\",\n          \"2025-08-04 08:19:54\"\n        ],\n        \"semantic_type\": \"\",\n        \"description\": \"\"\n      }\n    },\n    {\n      \"column\": \"name\",\n      \"properties\": {\n        \"dtype\": \"category\",\n        \"num_unique_values\": 313,\n        \"samples\": [\n          \"Ade Ogunleye\",\n          \"Rotimi Ahmed\",\n          \"Amina Oladipo\"\n        ],\n        \"semantic_type\": \"\",\n        \"description\": \"\"\n      }\n    },\n    {\n      \"column\": \"niche\",\n      \"properties\": {\n        \"dtype\": \"category\",\n        \"num_unique_values\": 5,\n        \"samples\": [\n          \"Business\",\n          \"Design\",\n          \"Visual Arts\"\n        ],\n        \"semantic_type\": \"\",\n        \"description\": \"\"\n      }\n    },\n    {\n      \"column\": \"level\",\n      \"properties\": {\n        \"dtype\": \"category\",\n        \"num_unique_values\": 3,\n        \"samples\": [\n          \"Intermediate\",\n          \"Pro\",\n          \"Beginner\"\n        ],\n        \"semantic_type\": \"\",\n        \"description\": \"\"\n      }\n    },\n    {\n      \"column\": \"goal\",\n      \"properties\": {\n        \"dtype\": \"category\",\n        \"num_unique_values\": 4,\n        \"samples\": [\n          \"Growth\",\n          \"Contracts\",\n          \"Skill Upgrade\"\n        ],\n        \"semantic_type\": \"\",\n        \"description\": \"\"\n      }\n    },\n    {\n      \"column\": \"title\",\n      \"properties\": {\n        \"dtype\": \"category\",\n        \"num_unique_values\": 140,\n        \"samples\": [\n          \"Music - Marketing Basics 117\",\n          \"Business - Contracts Basics 83\",\n          \"Film - Post-Production Basics 68\"\n        ],\n        \"semantic_type\": \"\",\n        \"description\": \"\"\n      }\n    },\n    {\n      \"column\": \"category\",\n      \"properties\": {\n        \"dtype\": \"category\",\n        \"num_unique_values\": 5,\n        \"samples\": [\n          \"Business\",\n          \"Visual Arts\",\n          \"Design\"\n        ],\n        \"semantic_type\": \"\",\n        \"description\": \"\"\n      }\n    },\n    {\n      \"column\": \"type\",\n      \"properties\": {\n        \"dtype\": \"category\",\n        \"num_unique_values\": 3,\n        \"samples\": [\n          \"video\",\n          \"podcast\",\n          \"article\"\n        ],\n        \"semantic_type\": \"\",\n        \"description\": \"\"\n      }\n    },\n    {\n      \"column\": \"tags\",\n      \"properties\": {\n        \"dtype\": \"category\",\n        \"num_unique_values\": 77,\n        \"samples\": [\n          \"ux,contracts\",\n          \"production,distribution\",\n          \"distribution,royalties\"\n        ],\n        \"semantic_type\": \"\",\n        \"description\": \"\"\n      }\n    },\n    {\n      \"column\": \"duration_minutes\",\n      \"properties\": {\n        \"dtype\": \"number\",\n        \"std\": 8,\n        \"min\": 3,\n        \"max\": 30,\n        \"num_unique_values\": 9,\n        \"samples\": [\n          20,\n          30,\n          3\n        ],\n        \"semantic_type\": \"\",\n        \"description\": \"\"\n      }\n    }\n  ]\n}"
            }
          },
          "metadata": {},
          "execution_count": 3
        }
      ],
      "source": [
        "import pandas as pd\n",
        "import numpy as np\n",
        "import matplotlib.pyplot as plt\n",
        "import seaborn as sns\n",
        "\n",
        "# Load data\n",
        "users = pd.read_csv(\"users.csv\")\n",
        "items = pd.read_csv(\"items.csv\")\n",
        "interactions = pd.read_csv(\"interactions.csv\")\n",
        "\n",
        "# Merge data\n",
        "df = interactions.merge(users, on=\"user_id\").merge(items, on=\"item_id\")\n",
        "df.head()\n"
      ]
    },
    {
      "cell_type": "markdown",
      "id": "6a11ad24",
      "metadata": {
        "id": "6a11ad24"
      },
      "source": [
        "## Data Preprocessing & Feature Engineering\n",
        "\n",
        "Here we handle missing values, check for class imbalance, and encode categorical features."
      ]
    },
    {
      "cell_type": "code",
      "execution_count": 4,
      "id": "98a64f4e",
      "metadata": {
        "colab": {
          "base_uri": "https://localhost:8080/"
        },
        "id": "98a64f4e",
        "outputId": "77be8eba-9a3d-4db6-ea94-bb945a86f714"
      },
      "outputs": [
        {
          "output_type": "stream",
          "name": "stdout",
          "text": [
            "Missing values:\n",
            " user_id               0\n",
            "item_id               0\n",
            "interaction_type      0\n",
            "dwell_time_seconds    0\n",
            "timestamp             0\n",
            "name                  0\n",
            "niche                 0\n",
            "level                 0\n",
            "goal                  0\n",
            "title                 0\n",
            "category              0\n",
            "type                  0\n",
            "tags                  0\n",
            "duration_minutes      0\n",
            "dtype: int64\n"
          ]
        }
      ],
      "source": [
        "# Check for missing values\n",
        "print(\"Missing values:\\n\", df.isnull().sum())\n",
        "\n",
        "# Drop rows\n",
        "df.dropna(inplace=True)\n",
        "\n",
        "# Encode categorical variables\n",
        "df['interaction_type_encoded'] = df['interaction_type'].astype('category').cat.codes\n",
        "df['niche_encoded'] = df['niche'].astype('category').cat.codes\n",
        "df['level_encoded'] = df['level'].astype('category').cat.codes\n",
        "df['goal_encoded'] = df['goal'].astype('category').cat.codes\n",
        "df['category_encoded'] = df['category'].astype('category').cat.codes\n",
        "\n",
        "# Normalize duration\n",
        "df['duration_norm'] = (df['duration_minutes'] - df['duration_minutes'].mean()) / df['duration_minutes'].std()\n"
      ]
    },
    {
      "cell_type": "markdown",
      "id": "1e04b3d8",
      "metadata": {
        "id": "1e04b3d8"
      },
      "source": [
        "## Exploratory Data Analysis\n",
        "\n",
        "Visualizing data distribution and interactions."
      ]
    },
    {
      "cell_type": "code",
      "execution_count": 5,
      "id": "11a844fb",
      "metadata": {
        "colab": {
          "base_uri": "https://localhost:8080/",
          "height": 1000
        },
        "id": "11a844fb",
        "outputId": "39789e34-f72c-44ec-fd72-8d3bcc59db89"
      },
      "outputs": [
        {
          "output_type": "display_data",
          "data": {
            "text/plain": [
              "<Figure size 640x480 with 1 Axes>"
            ],
            "image/png": "[encoded data removed]"
          },
          "metadata": {}
        },
        {
          "output_type": "display_data",
          "data": {
            "text/plain": [
              "<Figure size 640x480 with 1 Axes>"
            ],
            "image/png": "[encoded data removed]"
          },
          "metadata": {}
        },
        {
          "output_type": "display_data",
          "data": {
            "text/plain": [
              "<Figure size 640x480 with 1 Axes>"
            ],
            "image/png": "[encoded data removed]"
          },
          "metadata": {}
        }
      ],
      "source": [
        "sns.countplot(x='interaction_type', data=df)\n",
        "plt.title('Interaction Types')\n",
        "plt.show()\n",
        "\n",
        "sns.countplot(x='category', data=df)\n",
        "plt.title('Course Categories')\n",
        "plt.xticks(rotation=45)\n",
        "plt.show()\n",
        "\n",
        "sns.histplot(df['dwell_time_seconds'], bins=30)\n",
        "plt.title('Dwell Time Distribution')\n",
        "plt.show()\n"
      ]
    },
    {
      "cell_type": "markdown",
      "id": "6982a7c1",
      "metadata": {
        "id": "6982a7c1"
      },
      "source": [
        "## Model Implementation\n",
        "\n",
        "We use a simple content-based filtering model as a baseline using course tags and cosine similarity."
      ]
    },
    {
      "cell_type": "code",
      "execution_count": 7,
      "id": "74b5b2c2",
      "metadata": {
        "id": "74b5b2c2"
      },
      "outputs": [],
      "source": [
        "def recommend(title, cosine_sim=cosine_sim):\n",
        "    if title not in indices:\n",
        "        return \"Title not found.\"\n",
        "\n",
        "    # Get index of the item\n",
        "    idx = indices[title]\n",
        "\n",
        "    # Flatten the similarity scores to 1D\n",
        "    sim_scores = list(enumerate(cosine_sim[idx].flatten()))\n",
        "    sim_scores = sorted(sim_scores, key=lambda x: x[1], reverse=True)\n",
        "\n",
        "    # Skip the first (it's the item itself), return top 5\n",
        "    sim_scores = sim_scores[1:6]\n",
        "    item_indices = [i[0] for i in sim_scores]\n",
        "\n",
        "    return df['title'].iloc[item_indices]\n"
      ]
    },
    {
      "cell_type": "markdown",
      "id": "eedb3069",
      "metadata": {
        "id": "eedb3069"
      },
      "source": [
        "## Model Evaluation\n",
        "\n",
        "Since we’re not using user feedback as a target, evaluation is subjective. We validate that recommendations are relevant and diverse."
      ]
    },
    {
      "cell_type": "code",
      "execution_count": 8,
      "id": "268b7192",
      "metadata": {
        "colab": {
          "base_uri": "https://localhost:8080/"
        },
        "id": "268b7192",
        "outputId": "670c81e1-cf8b-4df1-8ca9-b98ed8aca4a9"
      },
      "outputs": [
        {
          "output_type": "stream",
          "name": "stdout",
          "text": [
            "Example: Recommend top 5 items similar to a selected course based on tag similarity.\n"
          ]
        }
      ],
      "source": [
        "# Placeholder for evaluation insights\n",
        "print(\"Example: Recommend top 5 items similar to a selected course based on tag similarity.\")\n"
      ]
    },
    {
      "cell_type": "markdown",
      "id": "2bcf1549",
      "metadata": {
        "id": "2bcf1549"
      },
      "source": [
        "## Experiment Summary\n",
        "\n",
        "| Model | Features Used | Vectorizer | Similarity Metric | Notes |\n",
        "|-------|----------------|------------|-------------------|-------|\n",
        "| Content-based filtering | `tags` | TF-IDF | Cosine similarity | Baseline model using tags only |"
      ]
    },
    {
      "cell_type": "markdown",
      "id": "c7639b79",
      "metadata": {
        "id": "c7639b79"
      },
      "source": [
        "## Conclusion\n",
        "\n",
        "This notebook shows a simple recommender system using content-based filtering. Future iterations may include collaborative filtering, hybrid models, and personalization based on niche/goals."
      ]
    }
  ],
  "metadata": {
    "colab": {
      "provenance": []
    },
    "language_info": {
      "name": "python"
    },
    "kernelspec": {
      "name": "python3",
      "display_name": "Python 3"
    }
  },
  "nbformat": 4,
  "nbformat_minor": 5
}